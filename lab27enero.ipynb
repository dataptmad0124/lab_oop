{
 "cells": [
  {
   "cell_type": "code",
   "execution_count": null,
   "metadata": {},
   "outputs": [],
   "source": [
    "# ejercicio 1 \n",
    "\n",
    "integer_list = [1, 1, 2, 3, 1, 2, 3, 4] \n",
    "\n",
    "values_list = [1, 3]\n",
    "\n",
    "def remove_(self, integer_list, values_list):\n",
    "        l = []\n",
    "        for integer in integer_list:\n",
    "            if integer not in values_list:\n",
    "                l.append(integer)   \n",
    "        return l\n",
    "       "
   ]
  },
  {
   "cell_type": "code",
   "execution_count": null,
   "metadata": {},
   "outputs": [],
   "source": [
    "# ejercicio 2\n",
    "class List(object):\n",
    "    def count_spec_digits(self, integers_list, digits_list):\n",
    "        l = []\n",
    "        for e in digits_list:\n",
    "            l.append((e, str(integers_list).count(str(e))))  \n",
    "        return l"
   ]
  },
  {
   "cell_type": "code",
   "execution_count": null,
   "metadata": {},
   "outputs": [],
   "source": [
    "# ejercicio 3 \n",
    "\n",
    "def ordered_count(inp):\n",
    "    res = {}\n",
    "    for e in inp:\n",
    "        res[e] = inp.count(e)\n",
    "    return  list(res.items())"
   ]
  }
 ],
 "metadata": {
  "kernelspec": {
   "display_name": "Python 3",
   "language": "python",
   "name": "python3"
  },
  "language_info": {
   "codemirror_mode": {
    "name": "ipython",
    "version": 3
   },
   "file_extension": ".py",
   "mimetype": "text/x-python",
   "name": "python",
   "nbconvert_exporter": "python",
   "pygments_lexer": "ipython3",
   "version": "3.11.0"
  }
 },
 "nbformat": 4,
 "nbformat_minor": 2
}

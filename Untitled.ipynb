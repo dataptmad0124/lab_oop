{
 "cells": [
  {
   "cell_type": "code",
   "execution_count": null,
   "id": "8e98bbd9",
   "metadata": {},
   "outputs": [],
   "source": [
    "class List:\n",
    "    def remove_(self, integer_list, values_list):\n",
    "        l=[]\n",
    "        for e in integer_list:\n",
    "            if e not in values_list:\n",
    "                l.append(e)\n",
    "                              \n",
    "                \n",
    "        return l"
   ]
  },
  {
   "cell_type": "code",
   "execution_count": null,
   "id": "12fe8f38",
   "metadata": {},
   "outputs": [],
   "source": [
    "\n",
    "class List(object):\n",
    "    def count_spec_digits(self, integers_list, digits_list):\n",
    "        # your code here\n",
    "        l=[]\n",
    "        \n",
    "        for e in digits_list: \n",
    "            l.append((e, str(integers_list).count(str(e))))\n",
    "               \n",
    "        return l"
   ]
  },
  {
   "cell_type": "code",
   "execution_count": null,
   "id": "e947afcf",
   "metadata": {},
   "outputs": [],
   "source": [
    "def ordered_count(inp):\n",
    "    \n",
    "       \n",
    "    res={}\n",
    "    \n",
    "    for letra in inp: \n",
    "            res[letra]=inp.count(letra)\n",
    "            \n",
    "    \n",
    "    return list(res.items())"
   ]
  }
 ],
 "metadata": {
  "kernelspec": {
   "display_name": "Python 3 (ipykernel)",
   "language": "python",
   "name": "python3"
  },
  "language_info": {
   "codemirror_mode": {
    "name": "ipython",
    "version": 3
   },
   "file_extension": ".py",
   "mimetype": "text/x-python",
   "name": "python",
   "nbconvert_exporter": "python",
   "pygments_lexer": "ipython3",
   "version": "3.11.5"
  }
 },
 "nbformat": 4,
 "nbformat_minor": 5
}
